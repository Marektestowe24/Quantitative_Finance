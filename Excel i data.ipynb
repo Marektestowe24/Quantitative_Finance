{
 "cells": [
  {
   "cell_type": "code",
   "execution_count": null,
   "id": "4475865c",
   "metadata": {},
   "outputs": [],
   "source": [
    "import pandas as pd\n",
    "import numpy as np\n",
    "from datetime import datetime\n",
    "\n",
    "n_rows=200\n",
    "\n",
    "A=pd.DataFrame(np.random.normal(size=(int(n_rows),3)),columns=[\"A\",\"B\",\"C\"])\n",
    "B=pd.DataFrame(np.random.normal(size=(int(n_rows),3)),columns=[\"A\",\"B\",\"C\"])\n",
    "C=pd.DataFrame(np.random.normal(size=(int(n_rows),3)),columns=[\"A\",\"B\",\"C\"])\n",
    "\n",
    "# Czas\n",
    "time=datetime.now().strftime(\"%d.%m.%Y %H:%M:%S\")\n",
    "time=datetime.now().strftime(\"%d-%m-%Y %H-%M-%S\")\n",
    "\n",
    "display(time)\n",
    "\n",
    "# Ustawić path\n",
    "path=r' ''\n",
    "file_name=f\"{path}\\Plik_{time}.xlsx\"\n",
    "display(file_name)\n",
    "\n",
    "with pd.ExcelWriter(file_name) as writer:\n",
    "    A.to_excel(writer, sheet_name=\"A\", index=False)\n",
    "    B.to_excel(writer, sheet_name=\"B\", index=False)\n",
    "    C.to_excel(writer, sheet_name=\"C\", index=False)"
   ]
  }
 ],
 "metadata": {
  "kernelspec": {
   "display_name": "Python 3 (ipykernel)",
   "language": "python",
   "name": "python3"
  },
  "language_info": {
   "codemirror_mode": {
    "name": "ipython",
    "version": 3
   },
   "file_extension": ".py",
   "mimetype": "text/x-python",
   "name": "python",
   "nbconvert_exporter": "python",
   "pygments_lexer": "ipython3",
   "version": "3.9.13"
  }
 },
 "nbformat": 4,
 "nbformat_minor": 5
}
