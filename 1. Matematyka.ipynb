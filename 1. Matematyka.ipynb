{
 "cells": [
  {
   "cell_type": "code",
   "execution_count": 2,
   "id": "2c552ce0",
   "metadata": {},
   "outputs": [],
   "source": [
    "import math\n",
    "import numpy as np\n",
    "import sympy as sp\n",
    "from sympy import solve, symbols\n",
    "x = symbols('x')"
   ]
  },
  {
   "cell_type": "code",
   "execution_count": 18,
   "id": "c2e6c890",
   "metadata": {},
   "outputs": [
    {
     "name": "stdout",
     "output_type": "stream",
     "text": [
      "2.718281828459045\n",
      "3.141592653589793\n",
      "10\n",
      "E\n",
      "pi\n"
     ]
    }
   ],
   "source": [
    "# 1.Symbole\n",
    "\n",
    "print(math.e)\n",
    "print(math.pi)\n",
    "print(abs(-10))\n",
    "print(sp.E)\n",
    "print(sp.pi)"
   ]
  },
  {
   "cell_type": "code",
   "execution_count": 4,
   "id": "77eb66af",
   "metadata": {},
   "outputs": [
    {
     "data": {
      "text/latex": [
       "$\\displaystyle x^{6} - 3 x^{5} - 4 x^{4} + 26 x^{3} - 39 x^{2} + 25 x - 6$"
      ],
      "text/plain": [
       "x**6 - 3*x**5 - 4*x**4 + 26*x**3 - 39*x**2 + 25*x - 6"
      ]
     },
     "metadata": {},
     "output_type": "display_data"
    }
   ],
   "source": [
    "# 2. Wyrażenia\n",
    "x = sp.symbols('x')\n",
    "\n",
    "wyrazenie = (x - 1)**4 * (x - 2) *(x+3) \n",
    "rozwiniecie = sp.expand(wyrazenie)\n",
    "display(rozwiniecie)\n",
    "\n"
   ]
  },
  {
   "cell_type": "code",
   "execution_count": 5,
   "id": "96bc08f4",
   "metadata": {},
   "outputs": [
    {
     "name": "stdout",
     "output_type": "stream",
     "text": [
      "E\n"
     ]
    }
   ],
   "source": [
    "# 3. Granice \n",
    "\n",
    "n = sp.Symbol('n')\n",
    "lim = sp.limit((1 + 1/n)**n, n, sp.oo)\n",
    "print(lim)\n"
   ]
  },
  {
   "cell_type": "code",
   "execution_count": 6,
   "id": "1d5c1fd2",
   "metadata": {},
   "outputs": [],
   "source": [
    "# 4. Pochodne"
   ]
  },
  {
   "cell_type": "code",
   "execution_count": 7,
   "id": "feeb7ad5",
   "metadata": {},
   "outputs": [],
   "source": [
    "# 5. Całki"
   ]
  },
  {
   "cell_type": "code",
   "execution_count": 20,
   "id": "865d4e01",
   "metadata": {},
   "outputs": [
    {
     "data": {
      "text/plain": [
       "[5]"
      ]
     },
     "metadata": {},
     "output_type": "display_data"
    },
    {
     "data": {
      "text/plain": [
       "[-3, -2, 3]"
      ]
     },
     "metadata": {},
     "output_type": "display_data"
    },
    {
     "data": {
      "text/latex": [
       "$\\displaystyle - \\sqrt{10} < x \\wedge x < \\sqrt{10}$"
      ],
      "text/plain": [
       "(x < sqrt(10)) & (-sqrt(10) < x)"
      ]
     },
     "execution_count": 20,
     "metadata": {},
     "output_type": "execute_result"
    }
   ],
   "source": [
    "# 6. Równania i nierówności\n",
    "\n",
    "A=solve(x - 5, x)\n",
    "display(A)\n",
    "display(solve(x**3+2*x**2 -9*x-18, x))\n",
    "\n",
    "solve(x**2 < 10)\n"
   ]
  },
  {
   "cell_type": "code",
   "execution_count": 9,
   "id": "2e8e9ec4",
   "metadata": {},
   "outputs": [],
   "source": [
    "# 7. Układy równań"
   ]
  },
  {
   "cell_type": "code",
   "execution_count": null,
   "id": "e207a9c2",
   "metadata": {},
   "outputs": [],
   "source": []
  },
  {
   "cell_type": "markdown",
   "id": "8b9a64d6",
   "metadata": {},
   "source": [
    "$$\n",
    "f(x) = \\int_{-\\infty}^{\\infty} e^{-x^2} dx\n",
    "$$"
   ]
  },
  {
   "cell_type": "markdown",
   "id": "0a8a3b2d",
   "metadata": {},
   "source": [
    "$$\n",
    "e^x = \\sum_{n=0}^{\\infty} \\frac{x^n}{n!}\n",
    "$$"
   ]
  }
 ],
 "metadata": {
  "kernelspec": {
   "display_name": "Python 3 (ipykernel)",
   "language": "python",
   "name": "python3"
  },
  "language_info": {
   "codemirror_mode": {
    "name": "ipython",
    "version": 3
   },
   "file_extension": ".py",
   "mimetype": "text/x-python",
   "name": "python",
   "nbconvert_exporter": "python",
   "pygments_lexer": "ipython3",
   "version": "3.9.13"
  }
 },
 "nbformat": 4,
 "nbformat_minor": 5
}
