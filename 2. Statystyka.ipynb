{
 "cells": [
  {
   "cell_type": "code",
<<<<<<< HEAD
   "execution_count": 2,
=======
   "execution_count": 1,
>>>>>>> 0c78eec2dce52acb9bf2fc2481d1db72d6541ee4
   "id": "dd3c3ade",
   "metadata": {},
   "outputs": [],
   "source": [
    "import numpy as np\n",
<<<<<<< HEAD
    "import pandas as pd\n",
    "import scipy"
=======
    "import pandas as pd"
>>>>>>> 0c78eec2dce52acb9bf2fc2481d1db72d6541ee4
   ]
  },
  {
   "cell_type": "code",
   "execution_count": null,
   "id": "9c42635a",
   "metadata": {},
   "outputs": [],
   "source": []
  },
  {
   "cell_type": "code",
   "execution_count": null,
   "id": "dd7c36b2",
   "metadata": {},
   "outputs": [],
   "source": []
  }
 ],
 "metadata": {
  "kernelspec": {
<<<<<<< HEAD
   "display_name": "Python 3",
=======
   "display_name": "Python 3 (ipykernel)",
>>>>>>> 0c78eec2dce52acb9bf2fc2481d1db72d6541ee4
   "language": "python",
   "name": "python3"
  },
  "language_info": {
   "codemirror_mode": {
    "name": "ipython",
    "version": 3
   },
   "file_extension": ".py",
   "mimetype": "text/x-python",
   "name": "python",
   "nbconvert_exporter": "python",
   "pygments_lexer": "ipython3",
<<<<<<< HEAD
   "version": "3.11.1"
=======
   "version": "3.9.13"
>>>>>>> 0c78eec2dce52acb9bf2fc2481d1db72d6541ee4
  }
 },
 "nbformat": 4,
 "nbformat_minor": 5
}
