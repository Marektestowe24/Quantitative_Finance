{
 "cells": [
  {
   "cell_type": "code",
   "execution_count": 2,
   "id": "91b7f8f1",
   "metadata": {},
   "outputs": [],
   "source": [
    "import pandas as pd\n",
    "import numpy as np\n",
    "\n",
    "n_rows=200\n",
    "\n",
    "A=pd.DataFrame(np.random.normal(size=(int(n_rows),3)),columns=[\"A\",\"B\",\"C\"])\n",
    "B=pd.DataFrame(np.random.normal(size=(int(n_rows),3)),columns=[\"A\",\"B\",\"C\"])\n",
    "C=pd.DataFrame(np.random.normal(size=(int(n_rows),3)),columns=[\"A\",\"B\",\"C\"])\n",
    "\n",
    "path=r'ŚCIEŻKA'\n",
    "with pd.ExcelWriter(path) as writer:\n",
    "    A.to_excel(writer, sheet_name=\"A\", index=False)\n",
    "    B.to_excel(writer, sheet_name=\"B\", index=False)\n",
    "    C.to_excel(writer, sheet_name=\"C\", index=False)"
   ]
  }
 ],
 "metadata": {
  "kernelspec": {
   "display_name": "Python 3 (ipykernel)",
   "language": "python",
   "name": "python3"
  },
  "language_info": {
   "codemirror_mode": {
    "name": "ipython",
    "version": 3
   },
   "file_extension": ".py",
   "mimetype": "text/x-python",
   "name": "python",
   "nbconvert_exporter": "python",
   "pygments_lexer": "ipython3",
   "version": "3.9.13"
  }
 },
 "nbformat": 4,
 "nbformat_minor": 5
}
