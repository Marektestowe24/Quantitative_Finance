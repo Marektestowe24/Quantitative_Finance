{
 "cells": [
  {
   "cell_type": "code",
   "execution_count": 1,
   "id": "2097187a",
   "metadata": {},
   "outputs": [
    {
     "data": {
      "text/plain": [
<<<<<<< HEAD
       "datetime.date(2025, 1, 24)"
=======
       "datetime.date(2024, 8, 10)"
>>>>>>> 0c78eec2dce52acb9bf2fc2481d1db72d6541ee4
      ]
     },
     "metadata": {},
     "output_type": "display_data"
    },
    {
     "data": {
      "text/plain": [
<<<<<<< HEAD
       "'2025-01-24'"
=======
       "'2024-08-10'"
>>>>>>> 0c78eec2dce52acb9bf2fc2481d1db72d6541ee4
      ]
     },
     "metadata": {},
     "output_type": "display_data"
    },
    {
     "data": {
      "text/plain": [
<<<<<<< HEAD
       "'2015-01-24'"
=======
       "'2014-08-10'"
>>>>>>> 0c78eec2dce52acb9bf2fc2481d1db72d6541ee4
      ]
     },
     "metadata": {},
     "output_type": "display_data"
    }
   ],
   "source": [
    "import pandas as pd\n",
    "import numpy as np\n",
    "import datetime\n",
    "\n",
    "Today = datetime.date.today()\n",
    "display(Today)\n",
    "Ten_years_ago = Today - datetime.timedelta(days=3653)\n",
    "\n",
    "Today = Today.strftime(\"%Y-%m-%d\")\n",
    "display(Today)\n",
    "\n",
    "Ten_years_ago = Ten_years_ago.strftime(\"%Y-%m-%d\")\n",
    "display(Ten_years_ago)"
   ]
  },
  {
   "cell_type": "code",
   "execution_count": 2,
   "id": "5207875b",
   "metadata": {},
   "outputs": [
    {
     "data": {
      "text/plain": [
       "DatetimeIndex(['2018-01-31', '2018-02-28', '2018-03-31', '2018-04-30',\n",
       "               '2018-05-31', '2018-06-30', '2018-07-31', '2018-08-31',\n",
       "               '2018-09-30', '2018-10-31', '2018-11-30', '2018-12-31',\n",
       "               '2019-01-31', '2019-02-28', '2019-03-31', '2019-04-30',\n",
       "               '2019-05-31', '2019-06-30', '2019-07-31', '2019-08-31',\n",
       "               '2019-09-30', '2019-10-31', '2019-11-30', '2019-12-31',\n",
       "               '2020-01-31', '2020-02-29', '2020-03-31', '2020-04-30',\n",
       "               '2020-05-31', '2020-06-30', '2020-07-31', '2020-08-31',\n",
       "               '2020-09-30', '2020-10-31', '2020-11-30', '2020-12-31',\n",
       "               '2021-01-31', '2021-02-28', '2021-03-31', '2021-04-30',\n",
       "               '2021-05-31', '2021-06-30', '2021-07-31', '2021-08-31',\n",
       "               '2021-09-30', '2021-10-31', '2021-11-30', '2021-12-31',\n",
       "               '2022-01-31', '2022-02-28', '2022-03-31', '2022-04-30',\n",
       "               '2022-05-31', '2022-06-30', '2022-07-31', '2022-08-31',\n",
       "               '2022-09-30', '2022-10-31', '2022-11-30', '2022-12-31',\n",
       "               '2023-01-31', '2023-02-28', '2023-03-31', '2023-04-30',\n",
       "               '2023-05-31', '2023-06-30', '2023-07-31', '2023-08-31',\n",
       "               '2023-09-30', '2023-10-31', '2023-11-30', '2023-12-31'],\n",
       "              dtype='datetime64[ns]', freq='M')"
      ]
     },
     "execution_count": 2,
     "metadata": {},
     "output_type": "execute_result"
    }
   ],
   "source": [
    "dates = pd.date_range(start='1-1-2018', periods=72, freq=pd.offsets.MonthEnd(1))\n",
    "dates"
   ]
  },
  {
   "cell_type": "code",
   "execution_count": 3,
   "id": "1a49b573",
   "metadata": {},
   "outputs": [
    {
     "data": {
      "text/html": [
       "<div>\n",
       "<style scoped>\n",
       "    .dataframe tbody tr th:only-of-type {\n",
       "        vertical-align: middle;\n",
       "    }\n",
       "\n",
       "    .dataframe tbody tr th {\n",
       "        vertical-align: top;\n",
       "    }\n",
       "\n",
       "    .dataframe thead th {\n",
       "        text-align: right;\n",
       "    }\n",
       "</style>\n",
       "<table border=\"1\" class=\"dataframe\">\n",
       "  <thead>\n",
       "    <tr style=\"text-align: right;\">\n",
       "      <th></th>\n",
       "      <th>Data</th>\n",
       "      <th>Wartość</th>\n",
       "    </tr>\n",
       "  </thead>\n",
       "  <tbody>\n",
       "    <tr>\n",
       "      <th>0</th>\n",
       "      <td>2018-01-31</td>\n",
       "      <td>83.642041</td>\n",
       "    </tr>\n",
       "    <tr>\n",
       "      <th>1</th>\n",
       "      <td>2018-02-28</td>\n",
       "      <td>16.675496</td>\n",
       "    </tr>\n",
       "    <tr>\n",
       "      <th>2</th>\n",
       "      <td>2018-03-31</td>\n",
       "      <td>86.715082</td>\n",
       "    </tr>\n",
       "    <tr>\n",
       "      <th>3</th>\n",
       "      <td>2018-04-30</td>\n",
       "      <td>44.696271</td>\n",
       "    </tr>\n",
       "    <tr>\n",
       "      <th>4</th>\n",
       "      <td>2018-05-31</td>\n",
       "      <td>75.922355</td>\n",
       "    </tr>\n",
       "    <tr>\n",
       "      <th>...</th>\n",
       "      <td>...</td>\n",
       "      <td>...</td>\n",
       "    </tr>\n",
       "    <tr>\n",
       "      <th>67</th>\n",
       "      <td>2023-08-31</td>\n",
       "      <td>92.164399</td>\n",
       "    </tr>\n",
       "    <tr>\n",
       "      <th>68</th>\n",
       "      <td>2023-09-30</td>\n",
       "      <td>99.787830</td>\n",
       "    </tr>\n",
       "    <tr>\n",
       "      <th>69</th>\n",
       "      <td>2023-10-31</td>\n",
       "      <td>13.650493</td>\n",
       "    </tr>\n",
       "    <tr>\n",
       "      <th>70</th>\n",
       "      <td>2023-11-30</td>\n",
       "      <td>87.308649</td>\n",
       "    </tr>\n",
       "    <tr>\n",
       "      <th>71</th>\n",
       "      <td>2023-12-31</td>\n",
       "      <td>95.336093</td>\n",
       "    </tr>\n",
       "  </tbody>\n",
       "</table>\n",
       "<p>72 rows × 2 columns</p>\n",
       "</div>"
      ],
      "text/plain": [
       "         Data    Wartość\n",
       "0  2018-01-31  83.642041\n",
       "1  2018-02-28  16.675496\n",
       "2  2018-03-31  86.715082\n",
       "3  2018-04-30  44.696271\n",
       "4  2018-05-31  75.922355\n",
       "..        ...        ...\n",
       "67 2023-08-31  92.164399\n",
       "68 2023-09-30  99.787830\n",
       "69 2023-10-31  13.650493\n",
       "70 2023-11-30  87.308649\n",
       "71 2023-12-31  95.336093\n",
       "\n",
       "[72 rows x 2 columns]"
      ]
     },
     "execution_count": 3,
     "metadata": {},
     "output_type": "execute_result"
    }
   ],
   "source": [
    "values = np.random.uniform(0, 100, len(dates))\n",
    "df = pd.DataFrame({'Data': dates, 'Wartość': values})\n",
    "df"
   ]
  },
  {
   "cell_type": "code",
   "execution_count": 4,
   "id": "e2a4bb5a",
   "metadata": {},
   "outputs": [
    {
     "data": {
      "text/plain": [
       "Data\n",
       "2018    65.451260\n",
       "2019    53.669103\n",
       "2020    45.072093\n",
       "2021    41.812582\n",
       "2022    55.994616\n",
       "2023    68.473443\n",
       "Name: Wartość, dtype: float64"
      ]
     },
     "metadata": {},
     "output_type": "display_data"
    },
    {
     "data": {
      "text/plain": [
       "Data\n",
       "1     50.613713\n",
       "2     49.993001\n",
       "3     51.152754\n",
       "4     55.907873\n",
       "5     48.413168\n",
       "6     46.398021\n",
       "7     51.156738\n",
       "8     61.142762\n",
       "9     50.503609\n",
       "10    49.685205\n",
       "11    85.902858\n",
       "12    60.076491\n",
       "Name: Wartość, dtype: float64"
      ]
     },
     "metadata": {},
     "output_type": "display_data"
    }
   ],
   "source": [
    "średnia_rok = df.groupby(df['Data'].dt.year)['Wartość'].mean()\n",
    "display(średnia_rok)\n",
    "\n",
    "średnia_miesiąc = df.groupby(df['Data'].dt.month)['Wartość'].mean()\n",
    "display(średnia_miesiąc)"
   ]
  },
  {
   "cell_type": "code",
   "execution_count": null,
   "id": "23f9b272",
   "metadata": {},
   "outputs": [],
   "source": []
  }
 ],
 "metadata": {
  "kernelspec": {
<<<<<<< HEAD
   "display_name": "Python 3",
=======
   "display_name": "Python 3 (ipykernel)",
>>>>>>> 0c78eec2dce52acb9bf2fc2481d1db72d6541ee4
   "language": "python",
   "name": "python3"
  },
  "language_info": {
   "codemirror_mode": {
    "name": "ipython",
    "version": 3
   },
   "file_extension": ".py",
   "mimetype": "text/x-python",
   "name": "python",
   "nbconvert_exporter": "python",
   "pygments_lexer": "ipython3",
<<<<<<< HEAD
   "version": "3.11.1"
=======
   "version": "3.9.13"
>>>>>>> 0c78eec2dce52acb9bf2fc2481d1db72d6541ee4
  }
 },
 "nbformat": 4,
 "nbformat_minor": 5
}
